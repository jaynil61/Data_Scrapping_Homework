{
 "cells": [
  {
   "cell_type": "markdown",
   "id": "a524df24",
   "metadata": {},
   "source": [
    "# Data Scrapping Homework           - Jaynil Patel"
   ]
  },
  {
   "cell_type": "code",
   "execution_count": 1,
   "id": "5673e8bb",
   "metadata": {},
   "outputs": [],
   "source": [
    "import requests\n",
    "from bs4 import BeautifulSoup\n",
    "import pandas as pd"
   ]
  },
  {
   "cell_type": "markdown",
   "id": "ab3313f8",
   "metadata": {},
   "source": [
    "## Defining headers and URL"
   ]
  },
  {
   "cell_type": "code",
   "execution_count": 2,
   "id": "4bb89e58",
   "metadata": {},
   "outputs": [],
   "source": [
    "headers = {'User-Agent':'Mozzila/5.0'}\n",
    "url = 'https://en.wikipedia.org/wiki/List_of_active_Indian_military_aircraft'"
   ]
  },
  {
   "cell_type": "markdown",
   "id": "ca8ef988",
   "metadata": {},
   "source": [
    "## Getting the response"
   ]
  },
  {
   "cell_type": "code",
   "execution_count": 3,
   "id": "549a614b",
   "metadata": {},
   "outputs": [
    {
     "data": {
      "text/plain": [
       "<Response [200]>"
      ]
     },
     "execution_count": 3,
     "metadata": {},
     "output_type": "execute_result"
    }
   ],
   "source": [
    "response = requests.get(url, headers)\n",
    "response"
   ]
  },
  {
   "cell_type": "markdown",
   "id": "1ebe1dbc",
   "metadata": {},
   "source": [
    "## Parsing the response content using BeautifulSoup"
   ]
  },
  {
   "cell_type": "code",
   "execution_count": 4,
   "id": "b42ff25e",
   "metadata": {},
   "outputs": [],
   "source": [
    "soup = BeautifulSoup(response.content,'html.parser')"
   ]
  },
  {
   "cell_type": "markdown",
   "id": "81439b73",
   "metadata": {},
   "source": [
    "#### Getting all the tags having class = 'wikitable' using the read_html() method of pandas. They are Tables.\n",
    "#### As we want only first table which is containg the data of active_Indian_military_aircrafts, we will get it by writing tables[0] and store it into df."
   ]
  },
  {
   "cell_type": "code",
   "execution_count": 6,
   "id": "f6ddffd3",
   "metadata": {},
   "outputs": [],
   "source": [
    "tables = pd.read_html(str(soup), attrs={\"class\": \"wikitable\"})\n",
    "df = tables[0]"
   ]
  },
  {
   "cell_type": "code",
   "execution_count": 7,
   "id": "292d9829",
   "metadata": {},
   "outputs": [
    {
     "data": {
      "text/html": [
       "<div>\n",
       "<style scoped>\n",
       "    .dataframe tbody tr th:only-of-type {\n",
       "        vertical-align: middle;\n",
       "    }\n",
       "\n",
       "    .dataframe tbody tr th {\n",
       "        vertical-align: top;\n",
       "    }\n",
       "\n",
       "    .dataframe thead tr th {\n",
       "        text-align: left;\n",
       "    }\n",
       "</style>\n",
       "<table border=\"1\" class=\"dataframe\">\n",
       "  <thead>\n",
       "    <tr>\n",
       "      <th></th>\n",
       "      <th>Aircraft</th>\n",
       "      <th>Origin</th>\n",
       "      <th>Type</th>\n",
       "      <th>Variant</th>\n",
       "      <th>In service</th>\n",
       "      <th>Notes</th>\n",
       "    </tr>\n",
       "    <tr>\n",
       "      <th></th>\n",
       "      <th>Combat Aircraft</th>\n",
       "      <th>Combat Aircraft</th>\n",
       "      <th>Combat Aircraft</th>\n",
       "      <th>Combat Aircraft</th>\n",
       "      <th>Combat Aircraft</th>\n",
       "      <th>Combat Aircraft</th>\n",
       "    </tr>\n",
       "  </thead>\n",
       "  <tbody>\n",
       "    <tr>\n",
       "      <th>0</th>\n",
       "      <td>Dassault Rafale</td>\n",
       "      <td>France</td>\n",
       "      <td>Multirole</td>\n",
       "      <td>DH</td>\n",
       "      <td>8[1]</td>\n",
       "      <td>NaN</td>\n",
       "    </tr>\n",
       "    <tr>\n",
       "      <th>1</th>\n",
       "      <td>Dassault Rafale</td>\n",
       "      <td>France</td>\n",
       "      <td>Multirole</td>\n",
       "      <td>EH</td>\n",
       "      <td>28[1]</td>\n",
       "      <td>NaN</td>\n",
       "    </tr>\n",
       "    <tr>\n",
       "      <th>2</th>\n",
       "      <td>HAL Tejas</td>\n",
       "      <td>India</td>\n",
       "      <td>Multirole</td>\n",
       "      <td>Mk.1</td>\n",
       "      <td>31[2][3]</td>\n",
       "      <td>NaN</td>\n",
       "    </tr>\n",
       "    <tr>\n",
       "      <th>3</th>\n",
       "      <td>HAL Tejas</td>\n",
       "      <td>India</td>\n",
       "      <td>Conversion trainer</td>\n",
       "      <td>Mk.1 Trainer</td>\n",
       "      <td>2[4][5]</td>\n",
       "      <td>Used for training; 16 more on order[6]</td>\n",
       "    </tr>\n",
       "    <tr>\n",
       "      <th>4</th>\n",
       "      <td>HAL Tejas</td>\n",
       "      <td>India</td>\n",
       "      <td>Multirole</td>\n",
       "      <td>Mk.1A</td>\n",
       "      <td>NaN</td>\n",
       "      <td>73 on order, 97 more approved[6][7]</td>\n",
       "    </tr>\n",
       "  </tbody>\n",
       "</table>\n",
       "</div>"
      ],
      "text/plain": [
       "          Aircraft          Origin                Type         Variant  \\\n",
       "   Combat Aircraft Combat Aircraft     Combat Aircraft Combat Aircraft   \n",
       "0  Dassault Rafale          France           Multirole              DH   \n",
       "1  Dassault Rafale          France           Multirole              EH   \n",
       "2        HAL Tejas           India           Multirole            Mk.1   \n",
       "3        HAL Tejas           India  Conversion trainer    Mk.1 Trainer   \n",
       "4        HAL Tejas           India           Multirole           Mk.1A   \n",
       "\n",
       "       In service                                   Notes  \n",
       "  Combat Aircraft                         Combat Aircraft  \n",
       "0            8[1]                                     NaN  \n",
       "1           28[1]                                     NaN  \n",
       "2        31[2][3]                                     NaN  \n",
       "3         2[4][5]  Used for training; 16 more on order[6]  \n",
       "4             NaN     73 on order, 97 more approved[6][7]  "
      ]
     },
     "execution_count": 7,
     "metadata": {},
     "output_type": "execute_result"
    }
   ],
   "source": [
    "df.head()"
   ]
  },
  {
   "cell_type": "markdown",
   "id": "ba7f8c9c",
   "metadata": {},
   "source": [
    "## Defining column names"
   ]
  },
  {
   "cell_type": "code",
   "execution_count": 8,
   "id": "56260be6",
   "metadata": {},
   "outputs": [],
   "source": [
    "df.columns = ['Aircraft','Origin','Type','Variant','In service','Notes']"
   ]
  },
  {
   "cell_type": "code",
   "execution_count": 9,
   "id": "b48d0659",
   "metadata": {},
   "outputs": [
    {
     "data": {
      "text/html": [
       "<div>\n",
       "<style scoped>\n",
       "    .dataframe tbody tr th:only-of-type {\n",
       "        vertical-align: middle;\n",
       "    }\n",
       "\n",
       "    .dataframe tbody tr th {\n",
       "        vertical-align: top;\n",
       "    }\n",
       "\n",
       "    .dataframe thead th {\n",
       "        text-align: right;\n",
       "    }\n",
       "</style>\n",
       "<table border=\"1\" class=\"dataframe\">\n",
       "  <thead>\n",
       "    <tr style=\"text-align: right;\">\n",
       "      <th></th>\n",
       "      <th>Aircraft</th>\n",
       "      <th>Origin</th>\n",
       "      <th>Type</th>\n",
       "      <th>Variant</th>\n",
       "      <th>In service</th>\n",
       "      <th>Notes</th>\n",
       "    </tr>\n",
       "  </thead>\n",
       "  <tbody>\n",
       "    <tr>\n",
       "      <th>0</th>\n",
       "      <td>Dassault Rafale</td>\n",
       "      <td>France</td>\n",
       "      <td>Multirole</td>\n",
       "      <td>DH</td>\n",
       "      <td>8[1]</td>\n",
       "      <td>NaN</td>\n",
       "    </tr>\n",
       "    <tr>\n",
       "      <th>1</th>\n",
       "      <td>Dassault Rafale</td>\n",
       "      <td>France</td>\n",
       "      <td>Multirole</td>\n",
       "      <td>EH</td>\n",
       "      <td>28[1]</td>\n",
       "      <td>NaN</td>\n",
       "    </tr>\n",
       "    <tr>\n",
       "      <th>2</th>\n",
       "      <td>HAL Tejas</td>\n",
       "      <td>India</td>\n",
       "      <td>Multirole</td>\n",
       "      <td>Mk.1</td>\n",
       "      <td>31[2][3]</td>\n",
       "      <td>NaN</td>\n",
       "    </tr>\n",
       "    <tr>\n",
       "      <th>3</th>\n",
       "      <td>HAL Tejas</td>\n",
       "      <td>India</td>\n",
       "      <td>Conversion trainer</td>\n",
       "      <td>Mk.1 Trainer</td>\n",
       "      <td>2[4][5]</td>\n",
       "      <td>Used for training; 16 more on order[6]</td>\n",
       "    </tr>\n",
       "    <tr>\n",
       "      <th>4</th>\n",
       "      <td>HAL Tejas</td>\n",
       "      <td>India</td>\n",
       "      <td>Multirole</td>\n",
       "      <td>Mk.1A</td>\n",
       "      <td>NaN</td>\n",
       "      <td>73 on order, 97 more approved[6][7]</td>\n",
       "    </tr>\n",
       "  </tbody>\n",
       "</table>\n",
       "</div>"
      ],
      "text/plain": [
       "          Aircraft  Origin                Type       Variant In service  \\\n",
       "0  Dassault Rafale  France           Multirole            DH       8[1]   \n",
       "1  Dassault Rafale  France           Multirole            EH      28[1]   \n",
       "2        HAL Tejas   India           Multirole          Mk.1   31[2][3]   \n",
       "3        HAL Tejas   India  Conversion trainer  Mk.1 Trainer    2[4][5]   \n",
       "4        HAL Tejas   India           Multirole         Mk.1A        NaN   \n",
       "\n",
       "                                    Notes  \n",
       "0                                     NaN  \n",
       "1                                     NaN  \n",
       "2                                     NaN  \n",
       "3  Used for training; 16 more on order[6]  \n",
       "4     73 on order, 97 more approved[6][7]  "
      ]
     },
     "execution_count": 9,
     "metadata": {},
     "output_type": "execute_result"
    }
   ],
   "source": [
    "df.head()"
   ]
  },
  {
   "cell_type": "markdown",
   "id": "a67361b6",
   "metadata": {},
   "source": [
    "## Converting the DataFrame into csv file."
   ]
  },
  {
   "cell_type": "code",
   "execution_count": 24,
   "id": "e6217c97",
   "metadata": {},
   "outputs": [],
   "source": [
    "df.to_csv('List_of_active_Indian_military_aircraft.csv',index=False)"
   ]
  },
  {
   "cell_type": "code",
   "execution_count": null,
   "id": "81a38531",
   "metadata": {},
   "outputs": [],
   "source": []
  }
 ],
 "metadata": {
  "kernelspec": {
   "display_name": "Python 3 (ipykernel)",
   "language": "python",
   "name": "python3"
  },
  "language_info": {
   "codemirror_mode": {
    "name": "ipython",
    "version": 3
   },
   "file_extension": ".py",
   "mimetype": "text/x-python",
   "name": "python",
   "nbconvert_exporter": "python",
   "pygments_lexer": "ipython3",
   "version": "3.9.12"
  }
 },
 "nbformat": 4,
 "nbformat_minor": 5
}
